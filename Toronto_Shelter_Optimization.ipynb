{
 "cells": [
  {
   "cell_type": "markdown",
   "metadata": {},
   "source": [
    "# Toronto Shelter Optimization"
   ]
  },
  {
   "cell_type": "markdown",
   "metadata": {},
   "source": [
    "### Import Packages"
   ]
  },
  {
   "cell_type": "code",
   "execution_count": 1,
   "metadata": {},
   "outputs": [],
   "source": [
    "import numpy as np\n",
    "import gurobipy as gp\n",
    "from gurobipy import *"
   ]
  },
  {
   "cell_type": "markdown",
   "metadata": {},
   "source": [
    "## Data used in model construction"
   ]
  },
  {
   "cell_type": "code",
   "execution_count": 2,
   "metadata": {},
   "outputs": [],
   "source": [
    "#name list for current shelter\n",
    "Name_current_shelter = ['s1', 's2', 's3', 's4', 's5' , 's6','s7','s8', 's9','s10','s11','s12','s13','s14','s15','s16','s17','s18','s19','s20','s21','s22','s23','s24','s25','s26','s27','s28','s29','s30',\n",
    "                        's31','s32','s33','s34','s35','s36','s37','s38','s39','s40','s41','s42','s43','s44','s45','s46','s47','s48','s49','s50','s51',\n",
    "                        's52','s53','s54','s55','s56','s57','s58','s59','s60','s61','s62','s63','s64','s65','s66','s67','s68','s69','s70','s71','s72','s73','s74','s75']\n",
    "#capacity for current shelter\n",
    "Cap_current_shelter = [210,152,82,42,76,56,560,888,94,28,40,90,88,51,28,120,50,40,32,252,48,110,50,25,110,25,110,34,21,74,48,45,40,10,60,5,28,26,37,5,70,25,90,30,75,90,83,45,40,71,20,106,90,94,19,108,290,60,45,89,72,348,397,305,40,46,22,40,44,30,27,89,68,100,320]\n",
    "\n",
    "#categories of shelter based on size\n",
    "size_of_shelter = ['small', 'medium', 'large']\n",
    "\n",
    "#daily operating costs per homeless people\n",
    "#each for the cost in small, medium and large shelters\n",
    "daily_individual_cost = [85, 65, 50]\n",
    "\n",
    "#construction cost for new shelter, each below for small, medium and large\n",
    "construction_cost = [1400000, 2460000, 4900000]\n",
    "\n",
    "#capacity for new shelters, each below for small, medium and large \n",
    "cap_new_shelters = [50,100,200] "
   ]
  },
  {
   "cell_type": "markdown",
   "metadata": {},
   "source": [
    "## Task: Model 1"
   ]
  },
  {
   "cell_type": "code",
   "execution_count": 3,
   "metadata": {
    "scrolled": false
   },
   "outputs": [
    {
     "name": "stdout",
     "output_type": "stream",
     "text": [
      "Academic license - for non-commercial use only - expires 2022-09-25\n",
      "Using license file /Users/zorak/gurobi.lic\n"
     ]
    }
   ],
   "source": [
    "model = gp.Model(\"Shelter Construction Optimization\")"
   ]
  },
  {
   "cell_type": "markdown",
   "metadata": {},
   "source": [
    "### Define decision variables"
   ]
  },
  {
   "cell_type": "code",
   "execution_count": 4,
   "metadata": {
    "collapsed": true
   },
   "outputs": [
    {
     "data": {
      "text/plain": [
       "{0: <gurobi.Var *Awaiting Model Update*>,\n",
       " 1: <gurobi.Var *Awaiting Model Update*>,\n",
       " 2: <gurobi.Var *Awaiting Model Update*>,\n",
       " 3: <gurobi.Var *Awaiting Model Update*>,\n",
       " 4: <gurobi.Var *Awaiting Model Update*>,\n",
       " 5: <gurobi.Var *Awaiting Model Update*>,\n",
       " 6: <gurobi.Var *Awaiting Model Update*>,\n",
       " 7: <gurobi.Var *Awaiting Model Update*>,\n",
       " 8: <gurobi.Var *Awaiting Model Update*>,\n",
       " 9: <gurobi.Var *Awaiting Model Update*>,\n",
       " 10: <gurobi.Var *Awaiting Model Update*>,\n",
       " 11: <gurobi.Var *Awaiting Model Update*>,\n",
       " 12: <gurobi.Var *Awaiting Model Update*>,\n",
       " 13: <gurobi.Var *Awaiting Model Update*>,\n",
       " 14: <gurobi.Var *Awaiting Model Update*>,\n",
       " 15: <gurobi.Var *Awaiting Model Update*>,\n",
       " 16: <gurobi.Var *Awaiting Model Update*>,\n",
       " 17: <gurobi.Var *Awaiting Model Update*>,\n",
       " 18: <gurobi.Var *Awaiting Model Update*>,\n",
       " 19: <gurobi.Var *Awaiting Model Update*>,\n",
       " 20: <gurobi.Var *Awaiting Model Update*>,\n",
       " 21: <gurobi.Var *Awaiting Model Update*>,\n",
       " 22: <gurobi.Var *Awaiting Model Update*>,\n",
       " 23: <gurobi.Var *Awaiting Model Update*>,\n",
       " 24: <gurobi.Var *Awaiting Model Update*>,\n",
       " 25: <gurobi.Var *Awaiting Model Update*>,\n",
       " 26: <gurobi.Var *Awaiting Model Update*>,\n",
       " 27: <gurobi.Var *Awaiting Model Update*>,\n",
       " 28: <gurobi.Var *Awaiting Model Update*>,\n",
       " 29: <gurobi.Var *Awaiting Model Update*>,\n",
       " 30: <gurobi.Var *Awaiting Model Update*>,\n",
       " 31: <gurobi.Var *Awaiting Model Update*>,\n",
       " 32: <gurobi.Var *Awaiting Model Update*>,\n",
       " 33: <gurobi.Var *Awaiting Model Update*>,\n",
       " 34: <gurobi.Var *Awaiting Model Update*>,\n",
       " 35: <gurobi.Var *Awaiting Model Update*>,\n",
       " 36: <gurobi.Var *Awaiting Model Update*>,\n",
       " 37: <gurobi.Var *Awaiting Model Update*>,\n",
       " 38: <gurobi.Var *Awaiting Model Update*>,\n",
       " 39: <gurobi.Var *Awaiting Model Update*>,\n",
       " 40: <gurobi.Var *Awaiting Model Update*>,\n",
       " 41: <gurobi.Var *Awaiting Model Update*>,\n",
       " 42: <gurobi.Var *Awaiting Model Update*>,\n",
       " 43: <gurobi.Var *Awaiting Model Update*>,\n",
       " 44: <gurobi.Var *Awaiting Model Update*>,\n",
       " 45: <gurobi.Var *Awaiting Model Update*>,\n",
       " 46: <gurobi.Var *Awaiting Model Update*>,\n",
       " 47: <gurobi.Var *Awaiting Model Update*>,\n",
       " 48: <gurobi.Var *Awaiting Model Update*>,\n",
       " 49: <gurobi.Var *Awaiting Model Update*>,\n",
       " 50: <gurobi.Var *Awaiting Model Update*>,\n",
       " 51: <gurobi.Var *Awaiting Model Update*>,\n",
       " 52: <gurobi.Var *Awaiting Model Update*>,\n",
       " 53: <gurobi.Var *Awaiting Model Update*>,\n",
       " 54: <gurobi.Var *Awaiting Model Update*>,\n",
       " 55: <gurobi.Var *Awaiting Model Update*>,\n",
       " 56: <gurobi.Var *Awaiting Model Update*>,\n",
       " 57: <gurobi.Var *Awaiting Model Update*>,\n",
       " 58: <gurobi.Var *Awaiting Model Update*>,\n",
       " 59: <gurobi.Var *Awaiting Model Update*>,\n",
       " 60: <gurobi.Var *Awaiting Model Update*>,\n",
       " 61: <gurobi.Var *Awaiting Model Update*>,\n",
       " 62: <gurobi.Var *Awaiting Model Update*>,\n",
       " 63: <gurobi.Var *Awaiting Model Update*>,\n",
       " 64: <gurobi.Var *Awaiting Model Update*>,\n",
       " 65: <gurobi.Var *Awaiting Model Update*>,\n",
       " 66: <gurobi.Var *Awaiting Model Update*>,\n",
       " 67: <gurobi.Var *Awaiting Model Update*>,\n",
       " 68: <gurobi.Var *Awaiting Model Update*>,\n",
       " 69: <gurobi.Var *Awaiting Model Update*>,\n",
       " 70: <gurobi.Var *Awaiting Model Update*>,\n",
       " 71: <gurobi.Var *Awaiting Model Update*>,\n",
       " 72: <gurobi.Var *Awaiting Model Update*>,\n",
       " 73: <gurobi.Var *Awaiting Model Update*>,\n",
       " 74: <gurobi.Var *Awaiting Model Update*>}"
      ]
     },
     "execution_count": 4,
     "metadata": {},
     "output_type": "execute_result"
    }
   ],
   "source": [
    "#Define the DVs\n",
    "#x is the number of new shelters to be built in difference sizes\n",
    "x = model.addVars(len(size_of_shelter), lb = 0, vtype = GRB.INTEGER, name = [\"number_of_\"+ i for i in size_of_shelter])\n",
    "x\n",
    "\n",
    "#y is the number of occupancy in each of the current shelters\n",
    "y = model.addVars(len(Name_current_shelter), lb = 0, vtype = GRB.INTEGER, name = ['occupancy_' + i for i in Name_current_shelter])\n",
    "y\n",
    "\n"
   ]
  },
  {
   "cell_type": "markdown",
   "metadata": {},
   "source": [
    "### Add constraints"
   ]
  },
  {
   "cell_type": "code",
   "execution_count": 5,
   "metadata": {
    "scrolled": true
   },
   "outputs": [
    {
     "data": {
      "text/plain": [
       "<gurobi.Constr *Awaiting Model Update*>"
      ]
     },
     "execution_count": 5,
     "metadata": {},
     "output_type": "execute_result"
    }
   ],
   "source": [
    "#to add constraints\n",
    "#for each of the current shelters, occupancy <= capacity\n",
    "for i in range(len(Name_current_shelter)):\n",
    "    model.addConstr(y[i] <= Cap_current_shelter[i], name=\"capacity_of_shelter\"+ str(i+1))\n",
    "\n",
    "#for total demand <= total capacity \n",
    "model.addConstr(sum(y[i] for i in range(len(Name_current_shelter))) + sum(x[i]*cap_new_shelters[i] for i in range(len(size_of_shelter))) >= 8700)\n",
    "\n",
    "\n",
    "#for loop to calculate to the annual operating cost for 3 sizes\n",
    "#individual operating cost for current shelters per day * 365 day * number of people in three sizes\n",
    "a=[]\n",
    "b=[]\n",
    "c=[]\n",
    "for i in range(len(Name_current_shelter)):\n",
    "    if Cap_current_shelter[i] <= 50:       #individual cost for small shelters \n",
    "        a.append(y[i]*daily_individual_cost[0]*365)\n",
    "    elif Cap_current_shelter[i] <= 100:    #individual cost for medium shelters \n",
    "        b.append(y[i]*daily_individual_cost[1]*365)\n",
    "    else:                                 #individual cost for large shelters \n",
    "        c.append(y[i]*daily_individual_cost[2]*365)\n",
    "\n",
    "        \n",
    "#for total cost <= government budget (in a year)\n",
    "#total cost measured by: individual operating cost for current shelters per day * 365 day * number of people + construction fee for new shelters + individual operating cost for new shelters per day * 365 day * number of people       \n",
    "model.addConstr(sum(a)+sum(b)+sum(c) + sum(x[j]*construction_cost[j] + x[j]*daily_individual_cost[j]*365 for j in range(len(size_of_shelter))) <= 663200000)\n",
    "\n",
    "\n",
    "\n"
   ]
  },
  {
   "cell_type": "markdown",
   "metadata": {},
   "source": [
    "### Set objective function"
   ]
  },
  {
   "cell_type": "code",
   "execution_count": 6,
   "metadata": {},
   "outputs": [],
   "source": [
    "cost = sum(a)+sum(b)+sum(c) + sum(x[j]*construction_cost[j] + x[j]*daily_individual_cost[j]*365 for j in range(len(size_of_shelter)))\n",
    "model.setObjective(cost, GRB.MINIMIZE)\n"
   ]
  },
  {
   "cell_type": "code",
   "execution_count": 7,
   "metadata": {},
   "outputs": [
    {
     "name": "stdout",
     "output_type": "stream",
     "text": [
      "Gurobi Optimizer version 9.1.2 build v9.1.2rc0 (mac64)\n",
      "Thread count: 2 physical cores, 4 logical processors, using up to 4 threads\n",
      "Optimize a model with 77 rows, 78 columns and 231 nonzeros\n",
      "Model fingerprint: 0x5cb6bcf3\n",
      "Variable types: 0 continuous, 78 integer (0 binary)\n",
      "Coefficient statistics:\n",
      "  Matrix range     [1e+00, 5e+06]\n",
      "  Objective range  [2e+04, 5e+06]\n",
      "  Bounds range     [0e+00, 0e+00]\n",
      "  RHS range        [5e+00, 7e+08]\n",
      "Found heuristic solution: objective 2.166298e+08\n",
      "Presolve removed 75 rows and 72 columns\n",
      "Presolve time: 0.00s\n",
      "Presolved: 2 rows, 6 columns, 12 nonzeros\n",
      "Variable types: 0 continuous, 6 integer (0 binary)\n",
      "\n",
      "Root relaxation: objective 1.845615e+08, 1 iterations, 0.00 seconds\n",
      "\n",
      "    Nodes    |    Current Node    |     Objective Bounds      |     Work\n",
      " Expl Unexpl |  Obj  Depth IntInf | Incumbent    BestBd   Gap | It/Node Time\n",
      "\n",
      "     0     0 1.8456e+08    0    1 2.1663e+08 1.8456e+08  14.8%     -    0s\n",
      "H    0     0                    1.846464e+08 1.8456e+08  0.05%     -    0s\n",
      "H    0     0                    1.845990e+08 1.8456e+08  0.02%     -    0s\n",
      "     0     0 1.8456e+08    0    1 1.8460e+08 1.8456e+08  0.02%     -    0s\n",
      "\n",
      "Explored 1 nodes (1 simplex iterations) in 0.06 seconds\n",
      "Thread count was 4 (of 4 available processors)\n",
      "\n",
      "Solution count 3: 1.84599e+08 1.84646e+08 2.1663e+08 \n",
      "\n",
      "Optimal solution found (tolerance 1.00e-04)\n",
      "Best objective 1.845989750000e+08, best bound 1.845989750000e+08, gap 0.0000%\n"
     ]
    }
   ],
   "source": [
    "model.optimize()"
   ]
  },
  {
   "cell_type": "code",
   "execution_count": 8,
   "metadata": {
    "collapsed": true
   },
   "outputs": [
    {
     "name": "stdout",
     "output_type": "stream",
     "text": [
      "number_of_small = 0.0\n",
      "number_of_medium = 1.0\n",
      "number_of_large = 12.0\n",
      "occupancy_s1 = 210.0\n",
      "occupancy_s2 = 152.0\n",
      "occupancy_s3 = 82.0\n",
      "occupancy_s4 = -0.0\n",
      "occupancy_s5 = 76.0\n",
      "occupancy_s6 = 56.0\n",
      "occupancy_s7 = 560.0\n",
      "occupancy_s8 = 888.0\n",
      "occupancy_s9 = 94.0\n",
      "occupancy_s10 = -0.0\n",
      "occupancy_s11 = -0.0\n",
      "occupancy_s12 = 90.0\n",
      "occupancy_s13 = 88.0\n",
      "occupancy_s14 = 51.0\n",
      "occupancy_s15 = -0.0\n",
      "occupancy_s16 = 120.0\n",
      "occupancy_s17 = -0.0\n",
      "occupancy_s18 = -0.0\n",
      "occupancy_s19 = -0.0\n",
      "occupancy_s20 = 252.0\n",
      "occupancy_s21 = -0.0\n",
      "occupancy_s22 = 110.0\n",
      "occupancy_s23 = -0.0\n",
      "occupancy_s24 = -0.0\n",
      "occupancy_s25 = 110.0\n",
      "occupancy_s26 = -0.0\n",
      "occupancy_s27 = 110.0\n",
      "occupancy_s28 = -0.0\n",
      "occupancy_s29 = -0.0\n",
      "occupancy_s30 = 74.0\n",
      "occupancy_s31 = -0.0\n",
      "occupancy_s32 = -0.0\n",
      "occupancy_s33 = -0.0\n",
      "occupancy_s34 = -0.0\n",
      "occupancy_s35 = 60.0\n",
      "occupancy_s36 = -0.0\n",
      "occupancy_s37 = 2.0\n",
      "occupancy_s38 = -0.0\n",
      "occupancy_s39 = -0.0\n",
      "occupancy_s40 = -0.0\n",
      "occupancy_s41 = 70.0\n",
      "occupancy_s42 = -0.0\n",
      "occupancy_s43 = 90.0\n",
      "occupancy_s44 = -0.0\n",
      "occupancy_s45 = 75.0\n",
      "occupancy_s46 = 90.0\n",
      "occupancy_s47 = 83.0\n",
      "occupancy_s48 = -0.0\n",
      "occupancy_s49 = -0.0\n",
      "occupancy_s50 = 71.0\n",
      "occupancy_s51 = -0.0\n",
      "occupancy_s52 = 106.0\n",
      "occupancy_s53 = 90.0\n",
      "occupancy_s54 = 94.0\n",
      "occupancy_s55 = -0.0\n",
      "occupancy_s56 = 108.0\n",
      "occupancy_s57 = 290.0\n",
      "occupancy_s58 = 60.0\n",
      "occupancy_s59 = -0.0\n",
      "occupancy_s60 = 89.0\n",
      "occupancy_s61 = 72.0\n",
      "occupancy_s62 = 348.0\n",
      "occupancy_s63 = 397.0\n",
      "occupancy_s64 = 305.0\n",
      "occupancy_s65 = -0.0\n",
      "occupancy_s66 = -0.0\n",
      "occupancy_s67 = -0.0\n",
      "occupancy_s68 = -0.0\n",
      "occupancy_s69 = -0.0\n",
      "occupancy_s70 = -0.0\n",
      "occupancy_s71 = -0.0\n",
      "occupancy_s72 = 89.0\n",
      "occupancy_s73 = 68.0\n",
      "occupancy_s74 = 100.0\n",
      "occupancy_s75 = 320.0\n"
     ]
    }
   ],
   "source": [
    "for var in model.getVars():\n",
    "    if var.x >= 0:\n",
    "        print(var.varName, \"=\", round(var.x,0))\n",
    "        "
   ]
  },
  {
   "cell_type": "markdown",
   "metadata": {},
   "source": [
    "### Solution from model1:\n",
    "\n",
    "In this case, Gurobi suggests building 1\n",
    "medium and 12 large shelters in order to accommodate the homeless people in Toronto. And the\n",
    "minimized annual cost is $184,598,975. \n",
    "\n",
    "According to the results, optimal average daily occupancy\n",
    "for about half of the existing shelters are zero, indicating that it is meaningless to keep those\n",
    "shelters operating. In this case, the government can choose to shut down those shelters.\n",
    "\n",
    "Although this model has good intentions, its optimal solutions do not seem to be reasonable, and\n",
    "the nature of the solution is not compatible with our understanding of the problem. Building 13\n",
    "new shelters in total while leaving half of the existing ones unused may be too much of a burden\n",
    "for the City of Toronto. First of all, there will still be expenditures for maintenance even if the\n",
    "shelters are left unused. Also, if the government chooses to shut down an existing shelter, it will\n",
    "be subject to additional spendings. In reality, especially during a global pandemic, the\n",
    "government will not be happy with such a solution that suggests closing half of the existing\n",
    "shelters because it will cause huge wastes. Furthermore, the optimal solution provided by this model is not compatible with our initial intuitions. We want to leverage the existing shelters as\n",
    "much as possible before building new ones so that we are not wasting the money from taxpayers\n",
    "in Toronto. We understand the importance of leveraging the current resources. Considering the\n",
    "time needed for construction, government approval, as well as recruitment, we realize it takes a\n",
    "long time for new shelters to be put into use officially. In this rapidly changing world, we are not\n",
    "sure whether the demand from homeless people can still be satisfied when new shelters are ready\n",
    "years later. As a result, we need to make an improvement on this model."
   ]
  },
  {
   "cell_type": "markdown",
   "metadata": {},
   "source": [
    "## Task: Model2"
   ]
  },
  {
   "cell_type": "markdown",
   "metadata": {},
   "source": [
    "### New assumption\n",
    "\n",
    "Assume even for those shelters without being fully occupied, they are still paying for maintainence. And the maintainence fee is 50, 40, 30 per the empty spot for small, medium and large shelters respectively.\n",
    "\n",
    "Methodology:\n",
    "To include the extra cost into the model, we construct another for loop. We first\n",
    "divide the existing shelters based on their capacity (small, medium, and large), and then calculate\n",
    "the number of empty spots by using the corresponding capacity minus the occupancy in each of\n",
    "the current shelters. Since the cost of each empty spot is measured on a daily basis, we multiply\n",
    "it by 365 days as we did before to calculate the annual total cost. As such, for shelters of each\n",
    "size, we multiply the number of empty spots with the annual cost of each unused spot to get the\n",
    "annual operating cost for unused or seldomly-used shelters."
   ]
  },
  {
   "cell_type": "code",
   "execution_count": 10,
   "metadata": {},
   "outputs": [],
   "source": [
    "daily_empty_spot_cost = [50, 40, 30]"
   ]
  },
  {
   "cell_type": "markdown",
   "metadata": {},
   "source": [
    "### Model 2 construction - decision variables & constraints"
   ]
  },
  {
   "cell_type": "code",
   "execution_count": 11,
   "metadata": {
    "scrolled": true
   },
   "outputs": [
    {
     "data": {
      "text/plain": [
       "<gurobi.Constr *Awaiting Model Update*>"
      ]
     },
     "execution_count": 11,
     "metadata": {},
     "output_type": "execute_result"
    }
   ],
   "source": [
    "model2 = gp.Model(\"Shelter Construction Optimization_Extension\")\n",
    "#Define the DVs\n",
    "#x is the number of new shelters to be built in difference sizes\n",
    "x = model2.addVars(len(size_of_shelter), lb = 0, vtype = GRB.INTEGER, name = [\"number_of_\"+ i for i in size_of_shelter])\n",
    "x\n",
    "\n",
    "#y is the number of occupancy in each of the current shelters\n",
    "y = model2.addVars(len(Name_current_shelter), lb = 0, vtype = GRB.INTEGER, name = ['occupancy_' + i for i in Name_current_shelter])\n",
    "y\n",
    "\n",
    "#to add constraints\n",
    "#for each of the current shelters, occupancy <= capacity\n",
    "for i in range(len(Name_current_shelter)):\n",
    "    model2.addConstr(y[i] <= Cap_current_shelter[i], name=\"capacity_of_shelter\"+ str(i+1))\n",
    "\n",
    "#for total demand <= total capacity \n",
    "model2.addConstr(sum(y[i] for i in range(len(Name_current_shelter))) + sum(x[i]*cap_new_shelters[i] for i in range(len(size_of_shelter))) >= 8700)\n",
    "\n",
    "\n",
    "#individual operating cost for current shelters per day * 365 day * number of people in three sizes\n",
    "a=[]\n",
    "b=[]\n",
    "c=[]\n",
    "for i in range(len(Name_current_shelter)):\n",
    "    if Cap_current_shelter[i] <= 50:       #individual cost for small shelters\n",
    "        a.append(y[i]*daily_individual_cost[0]*365)\n",
    "    elif Cap_current_shelter[i] <= 100:    #individual cost for medium shelters\n",
    "        b.append(y[i]*daily_individual_cost[1]*365)\n",
    "    else:                                 #individual cost for large shelters\n",
    "        c.append(y[i]*daily_individual_cost[2]*365)\n",
    "\n",
    "\n",
    "#operating cost per empty spot * 365 day * number of empty spot in three sizes\n",
    "d=[]\n",
    "e=[]\n",
    "f=[]\n",
    "for i in range(len(Name_current_shelter)): \n",
    "    if Cap_current_shelter[i] <= 50: \n",
    "        d.append((Cap_current_shelter[i] - y[i])*daily_empty_spot_cost[0]*365)\n",
    "    elif Cap_current_shelter[i] <= 100: \n",
    "        e.append((Cap_current_shelter[i] - y[i])*daily_empty_spot_cost[1]*365)\n",
    "    else: \n",
    "        f.append((Cap_current_shelter[i] - y[i])*daily_empty_spot_cost[2]*365)\n",
    "\n",
    "#total cost measured by: individual operating cost for current shelters per day * 365 day * number of people + operating cost per empty spot * 365 day * number of empty spot + construction fee for new shelters + individual operating cost for new shelters per day * 365 day * number of people       \n",
    "#for cost <= government budget (in a year)       \n",
    "model2.addConstr((sum(a)+sum(b)+sum(c)+sum(d)+sum(e)+sum(f)+sum(x[j]*construction_cost[j] + x[j]*daily_individual_cost[j]*365 for j in range(len(size_of_shelter)))) <= 663200000)\n",
    "\n"
   ]
  },
  {
   "cell_type": "markdown",
   "metadata": {},
   "source": [
    "### Objective function setting"
   ]
  },
  {
   "cell_type": "code",
   "execution_count": 12,
   "metadata": {
    "collapsed": true
   },
   "outputs": [
    {
     "name": "stdout",
     "output_type": "stream",
     "text": [
      "Gurobi Optimizer version 9.1.2 build v9.1.2rc0 (mac64)\n",
      "Thread count: 2 physical cores, 4 logical processors, using up to 4 threads\n",
      "Optimize a model with 77 rows, 78 columns and 231 nonzeros\n",
      "Model fingerprint: 0x9ec661fe\n",
      "Variable types: 0 continuous, 78 integer (0 binary)\n",
      "Coefficient statistics:\n",
      "  Matrix range     [1e+00, 5e+06]\n",
      "  Objective range  [7e+03, 5e+06]\n",
      "  Bounds range     [0e+00, 0e+00]\n",
      "  RHS range        [5e+00, 6e+08]\n",
      "Found heuristic solution: objective 2.536700e+08\n",
      "Presolve removed 75 rows and 72 columns\n",
      "Presolve time: 0.00s\n",
      "Presolved: 2 rows, 6 columns, 12 nonzeros\n",
      "Variable types: 0 continuous, 6 integer (0 binary)\n",
      "\n",
      "Root relaxation: objective 1.921533e+08, 1 iterations, 0.00 seconds\n",
      "\n",
      "    Nodes    |    Current Node    |     Objective Bounds      |     Work\n",
      " Expl Unexpl |  Obj  Depth IntInf | Incumbent    BestBd   Gap | It/Node Time\n",
      "\n",
      "     0     0 1.9215e+08    0    1 2.5367e+08 1.9215e+08  24.3%     -    0s\n",
      "H    0     0                    1.933560e+08 1.9215e+08  0.62%     -    0s\n",
      "H    0     0                    1.933524e+08 1.9215e+08  0.62%     -    0s\n",
      "     0     0 1.9247e+08    0    2 1.9335e+08 1.9247e+08  0.46%     -    0s\n",
      "H    0     0                    1.933488e+08 1.9247e+08  0.46%     -    0s\n",
      "H    0     0                    1.931871e+08 1.9247e+08  0.37%     -    0s\n",
      "     0     0 1.9251e+08    0    3 1.9319e+08 1.9251e+08  0.35%     -    0s\n",
      "*    0     0               0    1.927102e+08 1.9271e+08  0.00%     -    0s\n",
      "\n",
      "Cutting planes:\n",
      "  Gomory: 1\n",
      "  MIR: 1\n",
      "  StrongCG: 1\n",
      "\n",
      "Explored 1 nodes (4 simplex iterations) in 0.09 seconds\n",
      "Thread count was 4 (of 4 available processors)\n",
      "\n",
      "Solution count 6: 1.9271e+08 1.93187e+08 1.93349e+08 ... 2.5367e+08\n",
      "\n",
      "Optimal solution found (tolerance 1.00e-04)\n",
      "Best objective 1.927102500000e+08, best bound 1.927102500000e+08, gap 0.0000%\n"
     ]
    }
   ],
   "source": [
    "cost2 = sum(a)+sum(b)+sum(c) +sum(d)+sum(e)+sum(f)+ sum(x[j]*construction_cost[j] + x[j]*daily_individual_cost[j]*365 for j in range(len(size_of_shelter)))\n",
    "model2.setObjective(cost2, GRB.MINIMIZE)\n",
    "model2.optimize()"
   ]
  },
  {
   "cell_type": "code",
   "execution_count": 13,
   "metadata": {
    "collapsed": true
   },
   "outputs": [
    {
     "name": "stdout",
     "output_type": "stream",
     "text": [
      "number_of_small = 1.0\n",
      "number_of_medium = 1.0\n",
      "number_of_large = 6.0\n",
      "occupancy_s1 = 210.0\n",
      "occupancy_s2 = 152.0\n",
      "occupancy_s3 = 82.0\n",
      "occupancy_s4 = 42.0\n",
      "occupancy_s5 = 76.0\n",
      "occupancy_s6 = 56.0\n",
      "occupancy_s7 = 560.0\n",
      "occupancy_s8 = 888.0\n",
      "occupancy_s9 = 94.0\n",
      "occupancy_s10 = 28.0\n",
      "occupancy_s11 = 40.0\n",
      "occupancy_s12 = 90.0\n",
      "occupancy_s13 = 88.0\n",
      "occupancy_s14 = 51.0\n",
      "occupancy_s15 = 28.0\n",
      "occupancy_s16 = 120.0\n",
      "occupancy_s17 = 50.0\n",
      "occupancy_s18 = 40.0\n",
      "occupancy_s19 = 32.0\n",
      "occupancy_s20 = 252.0\n",
      "occupancy_s21 = 48.0\n",
      "occupancy_s22 = 110.0\n",
      "occupancy_s23 = 50.0\n",
      "occupancy_s24 = 25.0\n",
      "occupancy_s25 = 110.0\n",
      "occupancy_s26 = 25.0\n",
      "occupancy_s27 = 110.0\n",
      "occupancy_s28 = 34.0\n",
      "occupancy_s29 = 21.0\n",
      "occupancy_s30 = 74.0\n",
      "occupancy_s31 = 48.0\n",
      "occupancy_s32 = 45.0\n",
      "occupancy_s33 = 40.0\n",
      "occupancy_s34 = 10.0\n",
      "occupancy_s35 = 60.0\n",
      "occupancy_s36 = 5.0\n",
      "occupancy_s37 = 28.0\n",
      "occupancy_s38 = 26.0\n",
      "occupancy_s39 = 37.0\n",
      "occupancy_s40 = 4.0\n",
      "occupancy_s41 = 70.0\n",
      "occupancy_s42 = 25.0\n",
      "occupancy_s43 = 90.0\n",
      "occupancy_s44 = 30.0\n",
      "occupancy_s45 = 75.0\n",
      "occupancy_s46 = 90.0\n",
      "occupancy_s47 = 83.0\n",
      "occupancy_s48 = 45.0\n",
      "occupancy_s49 = 40.0\n",
      "occupancy_s50 = 71.0\n",
      "occupancy_s51 = 20.0\n",
      "occupancy_s52 = 106.0\n",
      "occupancy_s53 = 90.0\n",
      "occupancy_s54 = 94.0\n",
      "occupancy_s55 = 19.0\n",
      "occupancy_s56 = 108.0\n",
      "occupancy_s57 = 290.0\n",
      "occupancy_s58 = 60.0\n",
      "occupancy_s59 = 45.0\n",
      "occupancy_s60 = 89.0\n",
      "occupancy_s61 = 72.0\n",
      "occupancy_s62 = 348.0\n",
      "occupancy_s63 = 397.0\n",
      "occupancy_s64 = 305.0\n",
      "occupancy_s65 = 40.0\n",
      "occupancy_s66 = 46.0\n",
      "occupancy_s67 = 22.0\n",
      "occupancy_s68 = 40.0\n",
      "occupancy_s69 = 44.0\n",
      "occupancy_s70 = 30.0\n",
      "occupancy_s71 = -0.0\n",
      "occupancy_s72 = 89.0\n",
      "occupancy_s73 = 68.0\n",
      "occupancy_s74 = 100.0\n",
      "occupancy_s75 = 320.0\n"
     ]
    }
   ],
   "source": [
    "for var in model2.getVars():\n",
    "    if var.x >= 0:\n",
    "        print(var.varName, \"=\", round(var.x, 0))"
   ]
  },
  {
   "cell_type": "markdown",
   "metadata": {},
   "source": [
    "### Solution from model2:\n",
    "In this case, Gurobi suggests building 1 small shelter, 1 medium\n",
    "shelter, and 6 large shelters to provide enough accommodation. The minimized annual cost is\n",
    "$192,710,250, which is significantly larger than the optimal cost in the previous model, because\n",
    "of the additional costs included."
   ]
  },
  {
   "cell_type": "markdown",
   "metadata": {},
   "source": [
    "Improving the model allows us to get a deeper understanding of the shelter services problem. As\n",
    "we do research on the costs needed to operate a shelter, we realize that the actual cost can be\n",
    "much more complicated than our calculations because of the government regulations and\n",
    "administration. Formulating a good optimization model of such a real-world problem can be very\n",
    "challenging, but it is worth doing since it benefits the government, the taxpayers, and most\n",
    "importantly, the homeless people."
   ]
  },
  {
   "cell_type": "markdown",
   "metadata": {},
   "source": [
    "## Conclusion:\n",
    "\n",
    "Based on our analysis, we would recommend the city of Toronto to build 1 shelter at the capacity\n",
    "of 50 (small size ) , 1 shelter at the capacity of 100 (medium size) , and 6 shelters at the capacity\n",
    "of 200 (large size) to provide enough accommodation. In addition, the city should close one of\n",
    "the existing shelters (the shelter 71th with a capacity of 27) and keep the rest of the existing\n",
    "shelters operating. This can improve the chance for the homelessness find shelters and maximize the capacity within the limited budget. In addition, small shelters can make sure, even though no\n",
    "homelessness comes, the empty spot fee won’t be too high, and avoid the waste of resources."
   ]
  },
  {
   "cell_type": "markdown",
   "metadata": {},
   "source": [
    "## Further improvement\n",
    "\n",
    "To make this project even more reasonable, we would consider these three points. \n",
    "\n",
    "First, we would try\n",
    "to figure out how to allocate the position for the shelter location, by trying to analyze the spread\n",
    "of homelessness across the city, particularly where they gather together, or where they just\n",
    "randomly walk. After that, we want to solve this optimization allocation problem, maybe build a\n",
    "large shelter in the downtown area which has a high density, and some small shelters across the\n",
    "rest of Toronto. \n",
    "\n",
    "Second, the demand for the shelter changes with the season. There is more\n",
    "demand for shelter in colder weather compared to warmer weather. It would be interesting to\n",
    "re-evaluate the shelter allocation model semi-annually, which can provide a window of\n",
    "opportunity for the government to reduce more cost without jeopardizing the quality of service.\n",
    "\n",
    "Third, in the current pandemic most shelters are operating at reduced capacity, and this resulted\n",
    "in some people stranded outside the shelter facility, this is not acceptable so the government\n",
    "provides accommodation and cost associated with hotel accommodations should be considered\n",
    "in the future implementation of the model."
   ]
  },
  {
   "cell_type": "code",
   "execution_count": null,
   "metadata": {},
   "outputs": [],
   "source": []
  }
 ],
 "metadata": {
  "kernelspec": {
   "display_name": "Python 3 (ipykernel)",
   "language": "python",
   "name": "python3"
  },
  "language_info": {
   "codemirror_mode": {
    "name": "ipython",
    "version": 3
   },
   "file_extension": ".py",
   "mimetype": "text/x-python",
   "name": "python",
   "nbconvert_exporter": "python",
   "pygments_lexer": "ipython3",
   "version": "3.9.7"
  }
 },
 "nbformat": 4,
 "nbformat_minor": 4
}
